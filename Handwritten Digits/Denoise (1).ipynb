{
  "nbformat": 4,
  "nbformat_minor": 0,
  "metadata": {
    "colab": {
      "name": "Denoise.ipynb",
      "provenance": []
    },
    "kernelspec": {
      "name": "python3",
      "display_name": "Python 3"
    },
    "accelerator": "GPU"
  },
  "cells": [
    {
      "cell_type": "code",
      "metadata": {
        "id": "icS8i1_RFswr",
        "colab_type": "code",
        "colab": {
          "base_uri": "https://localhost:8080/",
          "height": 34
        },
        "outputId": "4f688916-a439-466b-f266-3159fb2087a3"
      },
      "source": [
        "# USAGE\n",
        "# python train_denoising_autoencoder.py\n",
        "\n",
        "# set the matplotlib backend so figures can be saved in the background\n",
        "import matplotlib\n",
        "matplotlib.use(\"Agg\")\n",
        "\n",
        "# import the necessary packages\n",
        "from convautoencoder import ConvAutoencoder\n",
        "from tensorflow.keras.optimizers import Adam\n",
        "from tensorflow.keras.datasets import mnist\n",
        "import matplotlib.pyplot as plt\n",
        "import numpy as np\n",
        "import argparse\n",
        "import cv2\n",
        "\n",
        "# initialize the number of epochs to train for and batch size\n",
        "EPOCHS = 10\n",
        "BS = 32\n",
        "\n",
        "# load the MNIST dataset\n",
        "print(\"[INFO] loading MNIST dataset...\")\n",
        "((trainX, _), (testX, _)) = mnist.load_data()\n",
        "\n",
        "# add a channel dimension to every image in the dataset, then scale\n",
        "# the pixel intensities to the range [0, 1]\n",
        "trainX = np.expand_dims(trainX, axis=-1)\n",
        "testX = np.expand_dims(testX, axis=-1)\n",
        "trainX = trainX.astype(\"float32\") / 255.0\n",
        "testX = testX.astype(\"float32\") / 255.0\n",
        "\n",
        "# sample noise from a gaussian distribution\n",
        "mean = 0\n",
        "var = 0.1\n",
        "sigma = var**0.5\n",
        "traingauss = np.random.normal(mean,sigma,trainX.shape)\n",
        "traingauss = traingauss.reshape(trainX.shape)\n",
        "trainXNoisy = trainX + traingauss\n",
        "testgauss = np.random.normal(mean,sigma,testX.shape)\n",
        "testgauss = testgauss.reshape(testX.shape)\n",
        "testXNoisy = testX + testgauss\n",
        "\n",
        "\n",
        "\n"
      ],
      "execution_count": null,
      "outputs": [
        {
          "output_type": "stream",
          "text": [
            "[INFO] loading MNIST dataset...\n"
          ],
          "name": "stdout"
        }
      ]
    },
    {
      "cell_type": "code",
      "metadata": {
        "id": "x6_i-YF0myvj",
        "colab_type": "code",
        "colab": {
          "base_uri": "https://localhost:8080/",
          "height": 370
        },
        "outputId": "d380db89-f5d9-479f-a3c8-aa29b168f137"
      },
      "source": [
        "# construct our convolutional autoencoder\n",
        "print(\"[INFO] building autoencoder...\")\n",
        "(encoder, decoder, autoencoder) = ConvAutoencoder.build(28, 28, 1)\n",
        "opt = Adam(lr=1e-3)\n",
        "autoencoder.compile(loss=\"mse\", optimizer=opt)\n",
        "\n",
        "# train the convolutional autoencoder\n",
        "H = autoencoder.fit(\n",
        "\ttrainXNoisy, trainX,\n",
        "\tvalidation_data=(testXNoisy, testX),\n",
        "\tepochs=EPOCHS,\n",
        "\tbatch_size=BS)\n",
        "\n",
        "# construct a plot that plots and saves the training history\n",
        "N = np.arange(0, EPOCHS)\n",
        "plt.style.use(\"ggplot\")\n",
        "plt.figure()\n",
        "plt.plot(N, H.history[\"loss\"], label=\"train_loss\")\n",
        "plt.plot(N, H.history[\"val_loss\"], label=\"val_loss\")\n",
        "plt.title(\"Training Loss and Accuracy\")\n",
        "plt.xlabel(\"Epoch #\")\n",
        "plt.ylabel(\"Loss/Accuracy\")\n",
        "plt.legend(loc=\"lower left\")\n",
        "plt.show()"
      ],
      "execution_count": null,
      "outputs": [
        {
          "output_type": "stream",
          "text": [
            "[INFO] building autoencoder...\n",
            "Epoch 1/10\n",
            "1875/1875 [==============================] - 10s 6ms/step - loss: 0.0219 - val_loss: 0.0150\n",
            "Epoch 2/10\n",
            "1875/1875 [==============================] - 10s 5ms/step - loss: 0.0131 - val_loss: 0.0122\n",
            "Epoch 3/10\n",
            "1875/1875 [==============================] - 10s 5ms/step - loss: 0.0120 - val_loss: 0.0117\n",
            "Epoch 4/10\n",
            "1875/1875 [==============================] - 10s 5ms/step - loss: 0.0114 - val_loss: 0.0114\n",
            "Epoch 5/10\n",
            "1875/1875 [==============================] - 10s 5ms/step - loss: 0.0110 - val_loss: 0.0109\n",
            "Epoch 6/10\n",
            "1875/1875 [==============================] - 10s 5ms/step - loss: 0.0107 - val_loss: 0.0105\n",
            "Epoch 7/10\n",
            "1875/1875 [==============================] - 10s 5ms/step - loss: 0.0105 - val_loss: 0.0106\n",
            "Epoch 8/10\n",
            "1875/1875 [==============================] - 10s 5ms/step - loss: 0.0103 - val_loss: 0.0105\n",
            "Epoch 9/10\n",
            "1875/1875 [==============================] - 10s 5ms/step - loss: 0.0101 - val_loss: 0.0104\n",
            "Epoch 10/10\n",
            "1875/1875 [==============================] - 10s 5ms/step - loss: 0.0100 - val_loss: 0.0101\n"
          ],
          "name": "stdout"
        }
      ]
    },
    {
      "cell_type": "code",
      "metadata": {
        "id": "sDtGJ1QrHElP",
        "colab_type": "code",
        "colab": {
          "base_uri": "https://localhost:8080/",
          "height": 258
        },
        "outputId": "82f479bf-dbbd-47cc-b111-db9ac8cf0f13"
      },
      "source": [
        "# use the convolutional autoencoder to make predictions on the\n",
        "# testing images, then initialize our list of output images\n",
        "print(\"[INFO] making predictions...\")\n",
        "decoded = autoencoder.predict(testXNoisy)\n",
        "outputs = None\n",
        "\n",
        "# loop over our number of output samples\n",
        "for i in range(0,8):\n",
        "\t# grab the original image and reconstructed image\n",
        "\toriginal = (testXNoisy[i] * 255).astype(\"uint8\")\n",
        "\trecon = (decoded[i] * 255).astype(\"uint8\")\n",
        "\n",
        "\t# stack the original and reconstructed image side-by-side\n",
        "\toutput = np.hstack([original, recon])\n",
        "\n",
        "\t# if the outputs array is empty, initialize it as the current\n",
        "\t# side-by-side image display\n",
        "\tif outputs is None:\n",
        "\t\toutputs = output\n",
        "\n",
        "\t# otherwise, vertically stack the outputs\n",
        "\telse:\n",
        "\t\toutputs = np.vstack([outputs, output])\n",
        "\n",
        "from google.colab.patches import cv2_imshow\n",
        "cv2_imshow(outputs)"
      ],
      "execution_count": null,
      "outputs": [
        {
          "output_type": "stream",
          "text": [
            "[INFO] making predictions...\n"
          ],
          "name": "stdout"
        },
        {
          "output_type": "display_data",
          "data": {
            "image/png": "[encoded data removed]",
            "text/plain": [
              "<PIL.Image.Image image mode=RGB size=56x224 at 0x7FC9B9EE90B8>"
            ]
          },
          "metadata": {
            "tags": []
          }
        }
      ]
    },
    {
      "cell_type": "code",
      "metadata": {
        "id": "iwdc8X3el29e",
        "colab_type": "code",
        "colab": {}
      },
      "source": [
        ""
      ],
      "execution_count": null,
      "outputs": []
    }
  ]
}